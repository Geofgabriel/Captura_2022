{
 "cells": [
  {
   "cell_type": "markdown",
   "id": "9b4ea795",
   "metadata": {},
   "source": [
    "## Carga de datos a Mongo desde Python\n",
    "\n",
    "Notebook utilizada para subir los datos en el archivo 'datos_2.csv' a MongoDB."
   ]
  },
  {
   "cell_type": "code",
   "execution_count": 1,
   "id": "f39e9007",
   "metadata": {},
   "outputs": [],
   "source": [
    "import pymongo\n",
    "from pymongo import MongoClient\n",
    "import pandas as pd\n",
    "import json\n",
    "from datetime import datetime"
   ]
  },
  {
   "cell_type": "code",
   "execution_count": 2,
   "id": "18bd42c7",
   "metadata": {},
   "outputs": [],
   "source": [
    "client = MongoClient('localhost',27017)"
   ]
  },
  {
   "cell_type": "code",
   "execution_count": 3,
   "id": "17bed2e3",
   "metadata": {},
   "outputs": [
    {
     "name": "stdout",
     "output_type": "stream",
     "text": [
      "<class 'pandas.core.frame.DataFrame'>\n",
      "RangeIndex: 177228 entries, 0 to 177227\n",
      "Data columns (total 7 columns):\n",
      " #   Column  Non-Null Count   Dtype  \n",
      "---  ------  --------------   -----  \n",
      " 0   fila    177228 non-null  int64  \n",
      " 1   Fechas  177228 non-null  object \n",
      " 2   Lat     177228 non-null  int64  \n",
      " 3   Lon     177228 non-null  int64  \n",
      " 4   Prep    177228 non-null  float64\n",
      " 5   Temp    177228 non-null  float64\n",
      " 6   Pres    177228 non-null  float64\n",
      "dtypes: float64(3), int64(3), object(1)\n",
      "memory usage: 9.5+ MB\n"
     ]
    }
   ],
   "source": [
    "df = pd.read_csv('datos_2.csv')\n",
    "df.info()"
   ]
  },
  {
   "cell_type": "code",
   "execution_count": 4,
   "id": "4668741b",
   "metadata": {},
   "outputs": [
    {
     "name": "stdout",
     "output_type": "stream",
     "text": [
      "Database(MongoClient(host=['localhost:27017'], document_class=dict, tz_aware=False, connect=True), 'METEO')\n"
     ]
    }
   ],
   "source": [
    "db = client['METEO']\n",
    "print(db)"
   ]
  },
  {
   "cell_type": "code",
   "execution_count": 5,
   "id": "0ef04fb6",
   "metadata": {},
   "outputs": [],
   "source": [
    "datos = df.to_dict(orient='records')"
   ]
  },
  {
   "cell_type": "code",
   "execution_count": 6,
   "id": "8b619c02",
   "metadata": {},
   "outputs": [
    {
     "name": "stdout",
     "output_type": "stream",
     "text": [
      "0:00:04.430736\n"
     ]
    }
   ],
   "source": [
    "t11 = datetime.now()\n",
    "db.INFO_METEO.insert_many(datos)\n",
    "t22 = datetime.now()\n",
    "delta_t = t22-t11\n",
    "print(delta_t)"
   ]
  },
  {
   "cell_type": "code",
   "execution_count": 7,
   "id": "eea9e5dd",
   "metadata": {},
   "outputs": [
    {
     "name": "stdout",
     "output_type": "stream",
     "text": [
      "Total number of documents :  177229\n"
     ]
    }
   ],
   "source": [
    "# number of documents in the collection\n",
    "total_count = db.INFO_METEO.count_documents({})\n",
    "print(\"Total number of documents : \", total_count)"
   ]
  }
 ],
 "metadata": {
  "kernelspec": {
   "display_name": "Python 3",
   "language": "python",
   "name": "python3"
  },
  "language_info": {
   "codemirror_mode": {
    "name": "ipython",
    "version": 3
   },
   "file_extension": ".py",
   "mimetype": "text/x-python",
   "name": "python",
   "nbconvert_exporter": "python",
   "pygments_lexer": "ipython3",
   "version": "3.8.8"
  }
 },
 "nbformat": 4,
 "nbformat_minor": 5
}
