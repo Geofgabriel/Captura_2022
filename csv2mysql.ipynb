{
 "cells": [
  {
   "cell_type": "markdown",
   "id": "e3aa9220",
   "metadata": {},
   "source": [
    "## Carga de datos a MySQL desde Python\n",
    "\n",
    "Notebook utilizada para subir los datos en el archivo 'datos_2.csv' a MongoDB."
   ]
  },
  {
   "cell_type": "code",
   "execution_count": 1,
   "id": "3c9ec556",
   "metadata": {},
   "outputs": [],
   "source": [
    "import mysql.connector\n",
    "import pandas as pd\n",
    "from datetime import datetime\n",
    "import time"
   ]
  },
  {
   "cell_type": "code",
   "execution_count": 2,
   "id": "6e1ae6c1",
   "metadata": {},
   "outputs": [],
   "source": [
    "host_ = 'localhost'\n",
    "user_ = 'data'\n",
    "password_ = 'data'"
   ]
  },
  {
   "cell_type": "code",
   "execution_count": 3,
   "id": "239721f8",
   "metadata": {},
   "outputs": [],
   "source": [
    "conn = mysql.connector.connect(host=host_, user=user_,  \n",
    "                        password=password_, database='METEO')\n",
    "conn.autocommit = True\n",
    "cursor = conn.cursor(buffered=True)"
   ]
  },
  {
   "cell_type": "code",
   "execution_count": 4,
   "id": "6a6baad6",
   "metadata": {},
   "outputs": [
    {
     "data": {
      "text/html": [
       "<div>\n",
       "<style scoped>\n",
       "    .dataframe tbody tr th:only-of-type {\n",
       "        vertical-align: middle;\n",
       "    }\n",
       "\n",
       "    .dataframe tbody tr th {\n",
       "        vertical-align: top;\n",
       "    }\n",
       "\n",
       "    .dataframe thead th {\n",
       "        text-align: right;\n",
       "    }\n",
       "</style>\n",
       "<table border=\"1\" class=\"dataframe\">\n",
       "  <thead>\n",
       "    <tr style=\"text-align: right;\">\n",
       "      <th></th>\n",
       "      <th>fila</th>\n",
       "      <th>Fechas</th>\n",
       "      <th>Lat</th>\n",
       "      <th>Lon</th>\n",
       "      <th>Prep</th>\n",
       "      <th>Temp</th>\n",
       "      <th>Pres</th>\n",
       "    </tr>\n",
       "  </thead>\n",
       "  <tbody>\n",
       "    <tr>\n",
       "      <th>0</th>\n",
       "      <td>9</td>\n",
       "      <td>1979-01-01 08:00:00</td>\n",
       "      <td>-26</td>\n",
       "      <td>-64</td>\n",
       "      <td>0.000184</td>\n",
       "      <td>300.325340</td>\n",
       "      <td>100769.209949</td>\n",
       "    </tr>\n",
       "    <tr>\n",
       "      <th>1</th>\n",
       "      <td>8</td>\n",
       "      <td>1979-01-01 08:00:00</td>\n",
       "      <td>-26</td>\n",
       "      <td>-63</td>\n",
       "      <td>0.000798</td>\n",
       "      <td>300.693421</td>\n",
       "      <td>100727.754873</td>\n",
       "    </tr>\n",
       "    <tr>\n",
       "      <th>2</th>\n",
       "      <td>7</td>\n",
       "      <td>1979-01-01 08:00:00</td>\n",
       "      <td>-26</td>\n",
       "      <td>-62</td>\n",
       "      <td>0.000042</td>\n",
       "      <td>300.606683</td>\n",
       "      <td>100705.300040</td>\n",
       "    </tr>\n",
       "    <tr>\n",
       "      <th>3</th>\n",
       "      <td>6</td>\n",
       "      <td>1979-01-01 08:00:00</td>\n",
       "      <td>-26</td>\n",
       "      <td>-61</td>\n",
       "      <td>0.000143</td>\n",
       "      <td>300.454335</td>\n",
       "      <td>100688.498172</td>\n",
       "    </tr>\n",
       "    <tr>\n",
       "      <th>4</th>\n",
       "      <td>5</td>\n",
       "      <td>1979-01-01 08:00:00</td>\n",
       "      <td>-26</td>\n",
       "      <td>-60</td>\n",
       "      <td>0.000017</td>\n",
       "      <td>300.141855</td>\n",
       "      <td>100688.969252</td>\n",
       "    </tr>\n",
       "  </tbody>\n",
       "</table>\n",
       "</div>"
      ],
      "text/plain": [
       "   fila               Fechas  Lat  Lon      Prep        Temp           Pres\n",
       "0     9  1979-01-01 08:00:00  -26  -64  0.000184  300.325340  100769.209949\n",
       "1     8  1979-01-01 08:00:00  -26  -63  0.000798  300.693421  100727.754873\n",
       "2     7  1979-01-01 08:00:00  -26  -62  0.000042  300.606683  100705.300040\n",
       "3     6  1979-01-01 08:00:00  -26  -61  0.000143  300.454335  100688.498172\n",
       "4     5  1979-01-01 08:00:00  -26  -60  0.000017  300.141855  100688.969252"
      ]
     },
     "execution_count": 4,
     "metadata": {},
     "output_type": "execute_result"
    }
   ],
   "source": [
    "df = pd.read_csv('datos_2.csv')\n",
    "df.head()"
   ]
  },
  {
   "cell_type": "code",
   "execution_count": 5,
   "id": "e69282fa",
   "metadata": {},
   "outputs": [
    {
     "name": "stdout",
     "output_type": "stream",
     "text": [
      "<class 'pandas.core.frame.DataFrame'>\n",
      "RangeIndex: 177228 entries, 0 to 177227\n",
      "Data columns (total 7 columns):\n",
      " #   Column  Non-Null Count   Dtype  \n",
      "---  ------  --------------   -----  \n",
      " 0   fila    177228 non-null  int64  \n",
      " 1   Fechas  177228 non-null  object \n",
      " 2   Lat     177228 non-null  int64  \n",
      " 3   Lon     177228 non-null  int64  \n",
      " 4   Prep    177228 non-null  float64\n",
      " 5   Temp    177228 non-null  float64\n",
      " 6   Pres    177228 non-null  float64\n",
      "dtypes: float64(3), int64(3), object(1)\n",
      "memory usage: 9.5+ MB\n"
     ]
    }
   ],
   "source": [
    "df.info()"
   ]
  },
  {
   "cell_type": "code",
   "execution_count": 6,
   "id": "f3f728ad",
   "metadata": {},
   "outputs": [
    {
     "name": "stdout",
     "output_type": "stream",
     "text": [
      "the table is created....\n"
     ]
    }
   ],
   "source": [
    "sql100 = \"CREATE TABLE INFO_METEO (Estaciones FLOAT NOT NULL,Fechas DATETIME NOT NULL, latitud FLOAT NOT NULL,longitud FLOAT NOT NULL, precipitacion FLOAT NOT NULL, temperatura FLOAT NOT NULL,presion FLOAT NOT NULL);\"\n",
    "cursor.execute(sql100)\n",
    "print(\"the table is created....\")"
   ]
  },
  {
   "cell_type": "code",
   "execution_count": 8,
   "id": "d3477fdc",
   "metadata": {},
   "outputs": [],
   "source": [
    "t11 = datetime.now()\n",
    "for i,row in df.iterrows():\n",
    "    sql = \"INSERT INTO METEO.INFO_METEO VALUES (%s,%s,%s,%s,%s,%s,%s)\"\n",
    "    cursor.execute(sql, tuple(row))\n",
    "t22 = datetime.now()\n"
   ]
  },
  {
   "cell_type": "code",
   "execution_count": 9,
   "id": "94602453",
   "metadata": {},
   "outputs": [
    {
     "name": "stdout",
     "output_type": "stream",
     "text": [
      "Tiempo en cargar los datos: 0:25:53.107448\n"
     ]
    }
   ],
   "source": [
    "delta_t = t22-t11\n",
    "print('Tiempo en cargar los datos:',delta_t)"
   ]
  },
  {
   "cell_type": "code",
   "execution_count": 11,
   "id": "34deb57f",
   "metadata": {},
   "outputs": [
    {
     "name": "stdout",
     "output_type": "stream",
     "text": [
      "(177228,)\n"
     ]
    }
   ],
   "source": [
    "sql3 = \"select count(*) from INFO_METEO\"\n",
    "cursor.execute(sql3)\n",
    "result = cursor.fetchall()\n",
    "for i in result:\n",
    "    print(i)"
   ]
  }
 ],
 "metadata": {
  "kernelspec": {
   "display_name": "Python 3",
   "language": "python",
   "name": "python3"
  },
  "language_info": {
   "codemirror_mode": {
    "name": "ipython",
    "version": 3
   },
   "file_extension": ".py",
   "mimetype": "text/x-python",
   "name": "python",
   "nbconvert_exporter": "python",
   "pygments_lexer": "ipython3",
   "version": "3.8.8"
  }
 },
 "nbformat": 4,
 "nbformat_minor": 5
}
