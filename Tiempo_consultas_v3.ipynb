{
 "cells": [
  {
   "cell_type": "code",
   "execution_count": 1,
   "id": "5d0de93a",
   "metadata": {},
   "outputs": [],
   "source": [
    "import pymongo\n",
    "from pymongo import MongoClient\n",
    "import pandas as pd\n",
    "import json\n",
    "import mysql.connector\n",
    "from datetime import datetime\n",
    "from time import time\n",
    "import numpy as np\n",
    "import matplotlib.pyplot as plt"
   ]
  },
  {
   "cell_type": "code",
   "execution_count": 2,
   "id": "f0b656e2",
   "metadata": {},
   "outputs": [],
   "source": [
    "host_ = 'localhost'\n",
    "user_ = 'gg'\n",
    "password_ = 'data2022'\n",
    "puerto_ = 27017"
   ]
  },
  {
   "cell_type": "markdown",
   "id": "0f459cd8",
   "metadata": {},
   "source": [
    "Conexión a MySQL"
   ]
  },
  {
   "cell_type": "code",
   "execution_count": 3,
   "id": "deb19dd3",
   "metadata": {},
   "outputs": [],
   "source": [
    "conn = mysql.connector.connect(host=host_, user=user_,  \n",
    "                        password=password_, database='METEO')\n",
    "conn.autocommit = True\n",
    "cursor = conn.cursor(buffered=True)"
   ]
  },
  {
   "cell_type": "markdown",
   "id": "4da339a9",
   "metadata": {},
   "source": [
    "Conexión a MongoDB"
   ]
  },
  {
   "cell_type": "code",
   "execution_count": 4,
   "id": "3bffe847",
   "metadata": {},
   "outputs": [
    {
     "name": "stdout",
     "output_type": "stream",
     "text": [
      "Database(MongoClient(host=['localhost:27017'], document_class=dict, tz_aware=False, connect=True), 'METEO')\n"
     ]
    }
   ],
   "source": [
    "client = MongoClient(host_,puerto_)\n",
    "db = client['METEO']\n",
    "print(db)"
   ]
  },
  {
   "cell_type": "markdown",
   "id": "a81c12c7",
   "metadata": {},
   "source": [
    "Número de veces que queremos realizar la misma consulta:"
   ]
  },
  {
   "cell_type": "code",
   "execution_count": 5,
   "id": "c161dd94",
   "metadata": {},
   "outputs": [],
   "source": [
    "nro_iter = 1000 # número de iteraciones para las pruebas"
   ]
  },
  {
   "cell_type": "markdown",
   "id": "322e0d3b",
   "metadata": {},
   "source": [
    "Función para realizar un gráfico rápido de un boxplot"
   ]
  },
  {
   "cell_type": "code",
   "execution_count": 32,
   "id": "eb944c57",
   "metadata": {},
   "outputs": [],
   "source": [
    "def box_plots(lsql,lnosql,name='compara'):\n",
    "    fig,ax = plt.subplots(1,2,figsize=(10,8))\n",
    "    ax[0].boxplot(lsql)\n",
    "    ax[0].set_ylabel('Segundos')\n",
    "    ax[0].set_xlabel('SQL')\n",
    "    ax[1].boxplot(lnosql)\n",
    "    ax[1].set_ylabel('Segundos')\n",
    "    ax[1].set_xlabel('No SQL')\n",
    "    fig.savefig('query'+name+'.pdf',bbox_inches='tight')"
   ]
  },
  {
   "cell_type": "markdown",
   "id": "4eeae094",
   "metadata": {},
   "source": [
    "## Pruebas de performance"
   ]
  },
  {
   "cell_type": "markdown",
   "id": "c701f6fd",
   "metadata": {},
   "source": [
    "### Primer consulta: \n",
    "\n",
    "Obtener todos los datos entre las latitudes $26^oS$ y $31^oS$ y las longitudes $58^o$ y $63^oO$."
   ]
  },
  {
   "cell_type": "code",
   "execution_count": null,
   "id": "c526e913",
   "metadata": {},
   "outputs": [],
   "source": [
    "sql1 = \"select * from INFO_METEO3 WHERE (latitud BETWEEN -31 and -26) AND (longitud BETWEEN -63 and -58)\"\n",
    "l_sql = np.zeros(nro_iter)\n",
    "for i in range(0,nro_iter):\n",
    "    t11 = time()\n",
    "    cursor.execute(sql1)\n",
    "    t22 = time()\n",
    "    #aux = t22-t11\n",
    "    l_sql[i] = t22-t11\n"
   ]
  },
  {
   "cell_type": "code",
   "execution_count": 8,
   "id": "dbc32599",
   "metadata": {},
   "outputs": [],
   "source": [
    "np.savetxt('query1_sql.txt',np.array(l_sql))"
   ]
  },
  {
   "cell_type": "code",
   "execution_count": 12,
   "id": "6700d94c",
   "metadata": {},
   "outputs": [],
   "source": [
    "l_nosql = np.zeros(nro_iter)\n",
    "for i in range(0,nro_iter):\n",
    "    t11 = time()\n",
    "    result = db.INFO_METEO3.find({\"$and\":[{\"Lat\" : { \"$gte\": -31, \"$lte\": -26}},{\"Lon\" : { \"$gte\": -63, \"$lte\": -58}}]})\n",
    "    t22 = time()\n",
    "    l_nosql[i] = t22-t11\n",
    "\n",
    "tot_nosql = sum(l_nosql)\n",
    "pro_nosql = tot_nosql/nro_iter"
   ]
  },
  {
   "cell_type": "code",
   "execution_count": 13,
   "id": "7ecd459e",
   "metadata": {},
   "outputs": [],
   "source": [
    "np.savetxt('query1_nosql.txt',np.array(l_nosql))"
   ]
  },
  {
   "cell_type": "code",
   "execution_count": 14,
   "id": "643c6cc3",
   "metadata": {},
   "outputs": [
    {
     "data": {
      "image/png": "[encoded data removed]",
      "text/plain": [
       "<Figure size 720x576 with 2 Axes>"
      ]
     },
     "metadata": {
      "needs_background": "light"
     },
     "output_type": "display_data"
    }
   ],
   "source": [
    "box_plots(l_sql,l_nosql,name='1')"
   ]
  },
  {
   "cell_type": "markdown",
   "id": "d508fe45",
   "metadata": {},
   "source": [
    "### Segunda consulta\n",
    "\n",
    "Obtener todos los datos entre el 15 y 27 de Febrero de 1979."
   ]
  },
  {
   "cell_type": "code",
   "execution_count": 22,
   "id": "0d2a0b34",
   "metadata": {},
   "outputs": [],
   "source": [
    "sql1 = \"SELECT * FROM INFO_METEO3 WHERE Date(Fechas) Between '1979/02/15' AND '1979/02/28'\"\n",
    "l_sql = np.zeros(nro_iter)\n",
    "for i in range(0,nro_iter):\n",
    "    t11 = time()\n",
    "    cursor.execute(sql1)\n",
    "    t22 = time()\n",
    "    l_sql[i] = t22-t11\n",
    "    \n",
    "tot_sql = sum(l_sql)\n",
    "pro_sql = tot_sql/nro_iter"
   ]
  },
  {
   "cell_type": "code",
   "execution_count": 23,
   "id": "e63b2d99",
   "metadata": {},
   "outputs": [],
   "source": [
    "np.savetxt('query2_sql.txt',np.array(l_sql))"
   ]
  },
  {
   "cell_type": "code",
   "execution_count": 24,
   "id": "dc3a3468",
   "metadata": {},
   "outputs": [],
   "source": [
    "l_nosql = np.zeros(nro_iter)\n",
    "for i in range(0,nro_iter):\n",
    "    t11 = time()\n",
    "    result = db.INFO_METEO3.find({\"Fechas_dt\":{\"$gt\":datetime(1979, 2, 2,0,0,0,0),\"$lt\":datetime(1979, 2, 25,0,0,0,0)}})\n",
    "    t22 = time()\n",
    "    l_nosql[i] = t22-t11\n",
    "\n",
    "tot_nosql = sum(l_nosql)\n",
    "pro_nosql = tot_nosql/nro_iter"
   ]
  },
  {
   "cell_type": "code",
   "execution_count": 25,
   "id": "fb6e1f78",
   "metadata": {},
   "outputs": [],
   "source": [
    "np.savetxt('query2_nosql.txt',np.array(l_nosql))"
   ]
  },
  {
   "cell_type": "code",
   "execution_count": 26,
   "id": "a6b14c90",
   "metadata": {},
   "outputs": [
    {
     "data": {
      "image/png": "[encoded data removed]",
      "text/plain": [
       "<Figure size 720x576 with 2 Axes>"
      ]
     },
     "metadata": {
      "needs_background": "light"
     },
     "output_type": "display_data"
    }
   ],
   "source": [
    "box_plots(l_sql,l_nosql,name='2')"
   ]
  },
  {
   "cell_type": "code",
   "execution_count": null,
   "id": "53de947d",
   "metadata": {},
   "outputs": [],
   "source": []
  },
  {
   "cell_type": "markdown",
   "id": "230abdfc",
   "metadata": {},
   "source": [
    "### Tercer consulta\n",
    "\n",
    "Obtener el acumulado de precipitación para cada estación (punto de la retícula)."
   ]
  },
  {
   "cell_type": "code",
   "execution_count": 27,
   "id": "39b0d078",
   "metadata": {},
   "outputs": [],
   "source": [
    "sql1 = \"SELECT Estaciones, SUM(precipitacion) FROM INFO_METEO3 GROUP BY Estaciones \"\n",
    "l_sql = np.zeros(nro_iter)\n",
    "for i in range(0,nro_iter):\n",
    "    t11 = time()\n",
    "    cursor.execute(sql1)\n",
    "    t22 = time()\n",
    "    t22-t11\n",
    "    l_sql[i] = t22-t11\n",
    "\n",
    "tot_sql = sum(l_sql)\n",
    "pro_sql = tot_sql/nro_iter"
   ]
  },
  {
   "cell_type": "code",
   "execution_count": 28,
   "id": "be1d7e71",
   "metadata": {},
   "outputs": [],
   "source": [
    "np.savetxt('query3_sql.txt',np.array(l_sql))"
   ]
  },
  {
   "cell_type": "code",
   "execution_count": 29,
   "id": "20024c13",
   "metadata": {},
   "outputs": [],
   "source": [
    "l_nosql = np.zeros(nro_iter)\n",
    "for i in range(0,nro_iter):\n",
    "    t11 = time()\n",
    "    result = db.INFO_METEO3.aggregate([{\"$group\": {\"_id\":\"$fila\", \"Suma precipitacion\":{\"$sum\":\"$Prep\"}}}])\n",
    "    t22 = time()\n",
    "    l_nosql[i] = t22-t11\n",
    "\n",
    "tot_nosql = sum(l_nosql)\n",
    "pro_nosql = tot_nosql/nro_iter"
   ]
  },
  {
   "cell_type": "code",
   "execution_count": 30,
   "id": "583fc5b4",
   "metadata": {},
   "outputs": [],
   "source": [
    "np.savetxt('query3_nosql.txt',np.array(l_nosql))"
   ]
  },
  {
   "cell_type": "code",
   "execution_count": 33,
   "id": "668aaf84",
   "metadata": {},
   "outputs": [
    {
     "data": {
      "image/png": "[encoded data removed]",
      "text/plain": [
       "<Figure size 720x576 with 2 Axes>"
      ]
     },
     "metadata": {
      "needs_background": "light"
     },
     "output_type": "display_data"
    }
   ],
   "source": [
    "box_plots(l_sql,l_nosql,name='3')"
   ]
  }
 ],
 "metadata": {
  "kernelspec": {
   "display_name": "Python 3",
   "language": "python",
   "name": "python3"
  },
  "language_info": {
   "codemirror_mode": {
    "name": "ipython",
    "version": 3
   },
   "file_extension": ".py",
   "mimetype": "text/x-python",
   "name": "python",
   "nbconvert_exporter": "python",
   "pygments_lexer": "ipython3",
   "version": "3.8.8"
  }
 },
 "nbformat": 4,
 "nbformat_minor": 5
}
